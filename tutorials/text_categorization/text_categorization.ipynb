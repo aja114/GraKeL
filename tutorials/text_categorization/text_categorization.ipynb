{
 "cells": [
  {
   "cell_type": "markdown",
   "metadata": {},
   "source": [
    "# Text Categorization\n",
    "We will explore how to utilize graph kernels and graph classification techniques in order to enhance natural language processing tasks such as the task of text categorization. Text categorization is the problem of automatically assigning category labels to textual documents. This problem is prevalent in many applications, including automatic news classification and opinion mining in product reviews. We will formulate the problem of text categorization as a graph classification problem, and then use graph kernels and the SVM classifier to solve it.\n",
    "\n",
    "The following code reads the data from the disk, applies some pre-processing steps (e.g., stemming), and extracts the vocabulary."
   ]
  },
  {
   "cell_type": "code",
   "execution_count": 1,
   "metadata": {},
   "outputs": [
    {
     "name": "stdout",
     "output_type": "stream",
     "text": [
      "Vocabulary size:  7186\n"
     ]
    }
   ],
   "source": [
    "import numpy as np\n",
    "import re\n",
    "from nltk.stem.porter import PorterStemmer\n",
    "import warnings\n",
    "warnings.filterwarnings('ignore')\n",
    "\n",
    "def load_file(filename):\n",
    "    labels = []\n",
    "    docs =[]\n",
    "\n",
    "    with open(filename, encoding='utf8', errors='ignore') as f:\n",
    "        for line in f:\n",
    "            content = line.split('\\t')\n",
    "            labels.append(content[0])\n",
    "            docs.append(content[1][:-1])\n",
    "    \n",
    "    return docs,labels  \n",
    "\n",
    "\n",
    "def clean_str(string):\n",
    "    string = re.sub(r\"[^A-Za-z0-9(),!?\\'\\`]\", \" \", string)     \n",
    "    string = re.sub(r\"\\'s\", \" \\'s\", string) \n",
    "    string = re.sub(r\"\\'ve\", \" \\'ve\", string) \n",
    "    string = re.sub(r\"n\\'t\", \" n\\'t\", string) \n",
    "    string = re.sub(r\"\\'re\", \" \\'re\", string) \n",
    "    string = re.sub(r\"\\'d\", \" \\'d\", string) \n",
    "    string = re.sub(r\"\\'ll\", \" \\'ll\", string) \n",
    "    string = re.sub(r\",\", \" , \", string) \n",
    "    string = re.sub(r\"!\", \" ! \", string) \n",
    "    string = re.sub(r\"\\(\", \" \\( \", string) \n",
    "    string = re.sub(r\"\\)\", \" \\) \", string) \n",
    "    string = re.sub(r\"\\?\", \" \\? \", string) \n",
    "    string = re.sub(r\"\\s{2,}\", \" \", string)\n",
    "    return string.strip().lower().split()\n",
    "\n",
    "\n",
    "def preprocessing(docs): \n",
    "    preprocessed_docs = []\n",
    "    n_sentences = 0\n",
    "    stemmer = PorterStemmer()\n",
    "\n",
    "    for doc in docs:\n",
    "        clean_doc = clean_str(doc)\n",
    "        preprocessed_docs.append([stemmer.stem(w) for w in clean_doc])\n",
    "    \n",
    "    return preprocessed_docs\n",
    "    \n",
    "    \n",
    "def get_vocab(train_docs, test_docs):\n",
    "    vocab = dict()\n",
    "    \n",
    "    for doc in train_docs:\n",
    "        for word in doc:\n",
    "            if word not in vocab:\n",
    "                vocab[word] = len(vocab)\n",
    "\n",
    "    for doc in test_docs:\n",
    "        for word in doc:\n",
    "            if word not in vocab:\n",
    "                vocab[word] = len(vocab)\n",
    "        \n",
    "    return vocab\n",
    "\n",
    "\n",
    "path_to_train_set = 'data/train_5500_coarse.label'\n",
    "path_to_test_set = 'data/TREC_10_coarse.label'\n",
    "\n",
    "# Read and pre-process train data\n",
    "train_data, y_train = load_file(path_to_train_set)\n",
    "train_data = preprocessing(train_data)\n",
    "\n",
    "# Read and pre-process test data\n",
    "test_data, y_test = load_file(path_to_test_set)\n",
    "test_data = preprocessing(test_data)\n",
    "\n",
    "# Extract vocabulary\n",
    "vocab = get_vocab(train_data, test_data)\n",
    "print(\"Vocabulary size: \", len(vocab))"
   ]
  },
  {
   "cell_type": "markdown",
   "metadata": {},
   "source": [
    "We will now transform the documents into graphs and perform graph classification. The function *create_graphs_of_words()* that is defined below transforms a list of documents into a list of graphs. We will use the function to generate the train and test graphs. We will set the size of the window to 3."
   ]
  },
  {
   "cell_type": "code",
   "execution_count": 2,
   "metadata": {},
   "outputs": [
    {
     "name": "stdout",
     "output_type": "stream",
     "text": [
      "Example of graph-of-words representation of document\n"
     ]
    },
    {
     "data": {
      "image/png": "[encoded data removed]",
      "text/plain": [
       "<Figure size 432x288 with 1 Axes>"
      ]
     },
     "metadata": {},
     "output_type": "display_data"
    }
   ],
   "source": [
    "import networkx as nx\n",
    "import matplotlib.pyplot as plt\n",
    "%matplotlib inline\n",
    "\n",
    "def create_graphs_of_words(docs, vocab, window_size):\n",
    "    graphs = list()\n",
    "    sizes = list()\n",
    "    degs = list()\n",
    "\n",
    "    for idx,doc in enumerate(docs):\n",
    "        G = nx.Graph()\n",
    "        for i in range(len(doc)):\n",
    "            if doc[i] not in G.nodes():\n",
    "                G.add_node(doc[i])\n",
    "                G.nodes[doc[i]]['label'] = vocab[doc[i]]\n",
    "        for i in range(len(doc)):\n",
    "            for j in range(i+1, i+window_size):\n",
    "                if j < len(doc):\n",
    "                    G.add_edge(doc[i], doc[j])\n",
    "        \n",
    "        graphs.append(G)\n",
    "    \n",
    "    return graphs\n",
    "\n",
    "\n",
    "# Create graph-of-words representations\n",
    "G_train_nx = create_graphs_of_words(train_data, vocab, 3) \n",
    "G_test_nx = create_graphs_of_words(test_data, vocab, 3)\n",
    "\n",
    "print(\"Example of graph-of-words representation of document\")\n",
    "nx.draw_networkx(G_train_nx[3], with_labels=True)"
   ]
  },
  {
   "cell_type": "markdown",
   "metadata": {},
   "source": [
    "We will next utilize the *graph_from_networkx()* function of GraKeL to convert the NetworkX graphs to objects that can be handled by GraKeL. Then, we will initialize a Weisfeiler Lehman subtree kernel and use it to construct the two kernel matrices (i.e., train and test). Next, we will train an SVM classifier and use it to make predictions."
   ]
  },
  {
   "cell_type": "code",
   "execution_count": 3,
   "metadata": {},
   "outputs": [
    {
     "name": "stdout",
     "output_type": "stream",
     "text": [
      "Accuracy: 0.858\n"
     ]
    }
   ],
   "source": [
    "from grakel.utils import graph_from_networkx\n",
    "from grakel.kernels import WeisfeilerLehman, VertexHistogram\n",
    "from sklearn.svm import SVC\n",
    "from sklearn.metrics import accuracy_score\n",
    "\n",
    "# Transform networkx graphs to grakel representations\n",
    "G_train = list(graph_from_networkx(G_train_nx, node_labels_tag='label'))\n",
    "G_test = list(graph_from_networkx(G_test_nx, node_labels_tag='label'))\n",
    "\n",
    "# Initialize a Weisfeiler-Lehman subtree kernel\n",
    "gk = WeisfeilerLehman(n_iter=1, normalize=False, base_graph_kernel=VertexHistogram)\n",
    "\n",
    "# Construct kernel matrices\n",
    "K_train = gk.fit_transform(G_train)\n",
    "K_test = gk.transform(G_test)\n",
    "\n",
    "# Train an SVM classifier and make predictions\n",
    "clf = SVC(kernel='precomputed')\n",
    "clf.fit(K_train, y_train) \n",
    "y_pred = clf.predict(K_test)\n",
    "\n",
    "# Evaluate the predictions\n",
    "print(\"Accuracy:\", accuracy_score(y_pred, y_test))"
   ]
  }
 ],
 "metadata": {
  "kernelspec": {
   "display_name": "Python 3",
   "language": "python",
   "name": "python3"
  },
  "language_info": {
   "codemirror_mode": {
    "name": "ipython",
    "version": 3
   },
   "file_extension": ".py",
   "mimetype": "text/x-python",
   "name": "python",
   "nbconvert_exporter": "python",
   "pygments_lexer": "ipython3",
   "version": "3.7.6"
  }
 },
 "nbformat": 4,
 "nbformat_minor": 2
}
